{
 "cells": [
  {
   "cell_type": "code",
   "execution_count": 22,
   "metadata": {
    "collapsed": false
   },
   "outputs": [],
   "source": [
    "rm(list=ls())\n",
    "library(caret)\n",
    "library(readr)\n",
    "library(scales)\n",
    "library(parallelSVM)\n",
    "library(ranger)\n",
    "library(ggplot2)\n",
    "library(dplyr)\n",
    "options(warn=-1)"
   ]
  },
  {
   "cell_type": "code",
   "execution_count": 42,
   "metadata": {
    "collapsed": true
   },
   "outputs": [],
   "source": [
    "set.seed(2323)"
   ]
  },
  {
   "cell_type": "code",
   "execution_count": 43,
   "metadata": {
    "collapsed": false
   },
   "outputs": [
    {
     "name": "stderr",
     "output_type": "stream",
     "text": [
      "Parsed with column specification:\n",
      "cols(\n",
      "  .default = col_integer()\n",
      ")\n",
      "See spec(...) for full column specifications.\n"
     ]
    }
   ],
   "source": [
    "df = read_csv( 'https://github.com/romeokienzler/developerWorks/raw/master/train.csv' )\n",
    "df$label <- as.factor(df$label)"
   ]
  },
  {
   "cell_type": "code",
   "execution_count": 24,
   "metadata": {
    "collapsed": true
   },
   "outputs": [],
   "source": [
    "index <- createDataPartition(df$label,\n",
    "                             times = 1,\n",
    "                             p = 0.75,\n",
    "                             list = FALSE)\n",
    "\n",
    "train_set <- df[index, ]\n",
    "test_set <- df[-index, ]"
   ]
  },
  {
   "cell_type": "code",
   "execution_count": 25,
   "metadata": {
    "collapsed": true
   },
   "outputs": [],
   "source": [
    "zeros <- sapply(train_set[,-1], function(x) all(x == 0))\n",
    "\n",
    "train_set <- train_set[, c(TRUE, !zeros)]\n",
    "train_set[,-1] <- lapply(train_set[,-1], rescale)\n",
    "\n",
    "test_set <- test_set[, c(TRUE, !zeros)]\n",
    "test_set[,-1] <- lapply(test_set[,-1], rescale)"
   ]
  },
  {
   "cell_type": "code",
   "execution_count": 26,
   "metadata": {
    "collapsed": false
   },
   "outputs": [
    {
     "data": {
      "text/plain": [
       "Time difference of 20.97485 mins"
      ]
     },
     "metadata": {},
     "output_type": "display_data"
    },
    {
     "data": {
      "text/plain": [
       "Confusion Matrix and Statistics\n",
       "\n",
       "    \n",
       "pred    0    1    2    3    4    5    6    7    8    9\n",
       "   0 1004    0    6    1    3    5    7    2    4    8\n",
       "   1    0 1148    6   13    6   11    3   18   24    6\n",
       "   2    3    5  941   15    2    2    9    6   11    5\n",
       "   3    3    2   10  949    0   41    1    2   23   16\n",
       "   4    3    1   18    2  951   10    6   18    9   40\n",
       "   5    8    8    5   52    2  853   19    1   47    5\n",
       "   6    7    1   19   12    8   15  984    0    7    1\n",
       "   7    0    3   13   11    1    2    0 1007    3   38\n",
       "   8    4    2   24   22    1    5    5    0  879    4\n",
       "   9    1    1    2   10   44    4    0   46    8  924\n",
       "\n",
       "Overall Statistics\n",
       "                                         \n",
       "               Accuracy : 0.9184         \n",
       "                 95% CI : (0.913, 0.9235)\n",
       "    No Information Rate : 0.1116         \n",
       "    P-Value [Acc > NIR] : < 2.2e-16      \n",
       "                                         \n",
       "                  Kappa : 0.9093         \n",
       " Mcnemar's Test P-Value : NA             \n",
       "\n",
       "Statistics by Class:\n",
       "\n",
       "                     Class: 0 Class: 1 Class: 2 Class: 3 Class: 4 Class: 5\n",
       "Sensitivity           0.97193   0.9804  0.90134  0.87305  0.93418  0.89979\n",
       "Specificity           0.99620   0.9907  0.99386  0.98959  0.98871  0.98461\n",
       "Pos Pred Value        0.96538   0.9296  0.94194  0.90640  0.89887  0.85300\n",
       "Neg Pred Value        0.99693   0.9975  0.98916  0.98540  0.99290  0.99000\n",
       "Prevalence            0.09841   0.1116  0.09946  0.10355  0.09698  0.09031\n",
       "Detection Rate        0.09565   0.1094  0.08964  0.09041  0.09060  0.08126\n",
       "Detection Prevalence  0.09908   0.1177  0.09517  0.09974  0.10079  0.09527\n",
       "Balanced Accuracy     0.98406   0.9855  0.94760  0.93132  0.96145  0.94220\n",
       "                     Class: 6 Class: 7 Class: 8 Class: 9\n",
       "Sensitivity           0.95164  0.91545  0.86601  0.88252\n",
       "Specificity           0.99260  0.99244  0.99293  0.98772\n",
       "Pos Pred Value        0.93359  0.93414  0.92918  0.88846\n",
       "Neg Pred Value        0.99471  0.99013  0.98576  0.98699\n",
       "Prevalence            0.09850  0.10479  0.09669  0.09974\n",
       "Detection Rate        0.09374  0.09593  0.08374  0.08803\n",
       "Detection Prevalence  0.10041  0.10270  0.09012  0.09908\n",
       "Balanced Accuracy     0.97212  0.95395  0.92947  0.93512"
      ]
     },
     "metadata": {},
     "output_type": "display_data"
    }
   ],
   "source": [
    "start <- Sys.time()\n",
    "model <- parallelSVM(label~., data = train_set, numberCores = 10)\n",
    "pred <- predict(model, test_set[,2:ncol(test_set)])\n",
    "Sys.time()-start\n",
    "\n",
    "confusionMatrix(table(pred, test_set$label))"
   ]
  },
  {
   "cell_type": "code",
   "execution_count": 27,
   "metadata": {
    "collapsed": false
   },
   "outputs": [
    {
     "name": "stdout",
     "output_type": "stream",
     "text": [
      "Growing trees.. Progress: 84%. Estimated remaining time: 5 seconds.\n",
      "Growing trees.. Progress: 58%. Estimated remaining time: 22 seconds.\n",
      "Growing trees.. Progress: 42%. Estimated remaining time: 42 seconds.\n",
      "Growing trees.. Progress: 84%. Estimated remaining time: 11 seconds.\n",
      "Growing trees.. Progress: 35%. Estimated remaining time: 56 seconds.\n",
      "Growing trees.. Progress: 72%. Estimated remaining time: 24 seconds.\n",
      "Growing trees.. Progress: 30%. Estimated remaining time: 1 minute, 13 seconds.\n",
      "Growing trees.. Progress: 59%. Estimated remaining time: 42 seconds.\n",
      "Growing trees.. Progress: 88%. Estimated remaining time: 12 seconds.\n",
      "Growing trees.. Progress: 24%. Estimated remaining time: 1 minute, 40 seconds.\n",
      "Growing trees.. Progress: 50%. Estimated remaining time: 1 minute, 2 seconds.\n",
      "Growing trees.. Progress: 75%. Estimated remaining time: 31 seconds.\n",
      "Growing trees.. Progress: 22%. Estimated remaining time: 1 minute, 52 seconds.\n",
      "Growing trees.. Progress: 45%. Estimated remaining time: 1 minute, 17 seconds.\n",
      "Growing trees.. Progress: 67%. Estimated remaining time: 46 seconds.\n",
      "Growing trees.. Progress: 90%. Estimated remaining time: 14 seconds.\n",
      "Growing trees.. Progress: 14%. Estimated remaining time: 3 minutes, 4 seconds.\n",
      "Growing trees.. Progress: 33%. Estimated remaining time: 2 minutes, 5 seconds.\n",
      "Growing trees.. Progress: 49%. Estimated remaining time: 1 minute, 38 seconds.\n",
      "Growing trees.. Progress: 65%. Estimated remaining time: 1 minute, 8 seconds.\n",
      "Growing trees.. Progress: 83%. Estimated remaining time: 33 seconds.\n",
      "Growing trees.. Progress: 99%. Estimated remaining time: 2 seconds.\n"
     ]
    }
   ],
   "source": [
    "models = list()\n",
    "for (i in seq(1, 500, 50)){\n",
    "  model_rf <- ranger(label~., data=train_set, num.trees=i)\n",
    "  pred <- predict(model_rf, test_set[,2:ncol(test_set)])\n",
    "  confu <- confusionMatrix(table(pred$predictions, test_set$label))\n",
    "  acc <- confu$overall[1]\n",
    "  models[[i]] <- c(\"Accuracy\" = acc %>% as.numeric, \"Number of Trees\" = model_rf$num.trees)\n",
    "}"
   ]
  },
  {
   "cell_type": "code",
   "execution_count": 31,
   "metadata": {
    "collapsed": true
   },
   "outputs": [],
   "source": [
    "accuracy_df <- data.frame(\"Accuracy\"=unlist(sapply(models, `[[`, 1)),\n",
    "                          \"NTree\"=unlist(sapply(models, `[[`, 2)))"
   ]
  },
  {
   "cell_type": "code",
   "execution_count": 40,
   "metadata": {
    "collapsed": false
   },
   "outputs": [
    {
     "data": {},
     "metadata": {},
     "output_type": "display_data"
    },
    {
     "data": {
      "image/png": "[encoded data removed]",
      "text/plain": [
       "plot without title"
      ]
     },
     "metadata": {},
     "output_type": "display_data"
    }
   ],
   "source": [
    "options(repr.plot.width=5, repr.plot.height=3)\n",
    "\n",
    "accuracy_df %>% \n",
    "  ggplot(aes(x=NTree, y = Accuracy, group=1)) + \n",
    "  geom_point() +\n",
    "  geom_line() +\n",
    "  xlab(\"Anzahl Bäume\") +\n",
    "  ylab(\"Trefferquote\")"
   ]
  },
  {
   "cell_type": "code",
   "execution_count": 41,
   "metadata": {
    "collapsed": false
   },
   "outputs": [
    {
     "name": "stdout",
     "output_type": "stream",
     "text": [
      "Growing trees.. Progress: 34%. Estimated remaining time: 1 minute, 1 seconds.\n",
      "Growing trees.. Progress: 69%. Estimated remaining time: 28 seconds.\n"
     ]
    },
    {
     "data": {
      "text/plain": [
       "Confusion Matrix and Statistics\n",
       "\n",
       "   \n",
       "       0    1    2    3    4    5    6    7    8    9\n",
       "  0 1019    0    3    0    3    3    4    1    3    6\n",
       "  1    0 1153    1    0    0    1    0    5    2    3\n",
       "  2    0    6 1008   13    1    1    0    2    6    2\n",
       "  3    1    3    2 1034    0   12    0    3   10   15\n",
       "  4    0    1    6    3  988    1    1    8    4   17\n",
       "  5    3    1    0   11    0  914    7    0   15    4\n",
       "  6    3    1    7    2    4    5 1017    0    3    0\n",
       "  7    0    4    5    6    1    2    0 1068    0   12\n",
       "  8    5    2   12   10    2    5    5    0  966    4\n",
       "  9    2    0    0    8   19    4    0   13    6  984\n",
       "\n",
       "Overall Statistics\n",
       "                                          \n",
       "               Accuracy : 0.967           \n",
       "                 95% CI : (0.9634, 0.9704)\n",
       "    No Information Rate : 0.1116          \n",
       "    P-Value [Acc > NIR] : < 2.2e-16       \n",
       "                                          \n",
       "                  Kappa : 0.9634          \n",
       " Mcnemar's Test P-Value : NA              \n",
       "\n",
       "Statistics by Class:\n",
       "\n",
       "                     Class: 0 Class: 1 Class: 2 Class: 3 Class: 4 Class: 5\n",
       "Sensitivity           0.98645   0.9846  0.96552   0.9512  0.97053  0.96414\n",
       "Specificity           0.99757   0.9987  0.99672   0.9951  0.99567  0.99571\n",
       "Pos Pred Value        0.97793   0.9897  0.97016   0.9574  0.96016  0.95707\n",
       "Neg Pred Value        0.99852   0.9981  0.99619   0.9944  0.99683  0.99644\n",
       "Prevalence            0.09841   0.1116  0.09946   0.1036  0.09698  0.09031\n",
       "Detection Rate        0.09708   0.1098  0.09603   0.0985  0.09412  0.08707\n",
       "Detection Prevalence  0.09927   0.1110  0.09898   0.1029  0.09803  0.09098\n",
       "Balanced Accuracy     0.99201   0.9917  0.98112   0.9732  0.98310  0.97992\n",
       "                     Class: 6 Class: 7 Class: 8 Class: 9\n",
       "Sensitivity           0.98356   0.9709  0.95172  0.93983\n",
       "Specificity           0.99736   0.9968  0.99525  0.99450\n",
       "Pos Pred Value        0.97601   0.9727  0.95549  0.94981\n",
       "Neg Pred Value        0.99820   0.9966  0.99483  0.99334\n",
       "Prevalence            0.09850   0.1048  0.09669  0.09974\n",
       "Detection Rate        0.09688   0.1017  0.09203  0.09374\n",
       "Detection Prevalence  0.09927   0.1046  0.09631  0.09869\n",
       "Balanced Accuracy     0.99046   0.9839  0.97349  0.96716"
      ]
     },
     "metadata": {},
     "output_type": "display_data"
    }
   ],
   "source": [
    "model_rf <- ranger(label~., data=train_set, num.trees=250)\n",
    "pred <- predict(model_rf, test_set[,2:ncol(test_set)])\n",
    "\n",
    "confusionMatrix(table(pred$predictions, test_set$label))"
   ]
  },
  {
   "cell_type": "code",
   "execution_count": null,
   "metadata": {
    "collapsed": true
   },
   "outputs": [],
   "source": []
  }
 ],
 "metadata": {
  "kernelspec": {
   "display_name": "R",
   "language": "R",
   "name": "ir"
  },
  "language_info": {
   "codemirror_mode": "r",
   "file_extension": ".r",
   "mimetype": "text/x-r-source",
   "name": "R",
   "pygments_lexer": "r",
   "version": "3.3.2"
  }
 },
 "nbformat": 4,
 "nbformat_minor": 2
}
