{
 "cells": [
  {
   "cell_type": "code",
   "execution_count": 32,
   "metadata": {
    "collapsed": true
   },
   "outputs": [],
   "source": [
    "from os import listdir\n",
    "import os\n",
    "import math\n",
    "import pandas as pd\n",
    "import numpy as np\n",
    "import re\n",
    "from sklearn.model_selection import train_test_split\n",
    "from sklearn import preprocessing\n",
    "import tensorflow as tf"
   ]
  },
  {
   "cell_type": "code",
   "execution_count": 33,
   "metadata": {
    "collapsed": false
   },
   "outputs": [
    {
     "data": {
      "text/plain": [
       "'/Users/dominikpeter/Homework/mining/Tensorflow'"
      ]
     },
     "execution_count": 33,
     "metadata": {},
     "output_type": "execute_result"
    }
   ],
   "source": [
    "os.getcwd()"
   ]
  },
  {
   "cell_type": "code",
   "execution_count": 34,
   "metadata": {
    "collapsed": false
   },
   "outputs": [],
   "source": [
    "x = [x for x in os.walk('/Users/dominikpeter/Homework/mining/Tensorflow/HMP_Dataset')]"
   ]
  },
  {
   "cell_type": "code",
   "execution_count": 35,
   "metadata": {
    "collapsed": false
   },
   "outputs": [
    {
     "data": {
      "text/plain": [
       "['Brush_teeth',\n",
       " 'Climb_stairs',\n",
       " 'Climb_stairs_MODEL',\n",
       " 'Comb_hair',\n",
       " 'Descend_stairs']"
      ]
     },
     "execution_count": 35,
     "metadata": {},
     "output_type": "execute_result"
    }
   ],
   "source": [
    "subfolder = x[0][1]\n",
    "subfolder[0:5]"
   ]
  },
  {
   "cell_type": "code",
   "execution_count": 36,
   "metadata": {
    "collapsed": false
   },
   "outputs": [
    {
     "data": {
      "text/plain": [
       "['/Users/dominikpeter/Homework/mining/Tensorflow/HMP_Dataset/Brush_teeth',\n",
       " '/Users/dominikpeter/Homework/mining/Tensorflow/HMP_Dataset/Climb_stairs',\n",
       " '/Users/dominikpeter/Homework/mining/Tensorflow/HMP_Dataset/Climb_stairs_MODEL',\n",
       " '/Users/dominikpeter/Homework/mining/Tensorflow/HMP_Dataset/Comb_hair',\n",
       " '/Users/dominikpeter/Homework/mining/Tensorflow/HMP_Dataset/Descend_stairs']"
      ]
     },
     "execution_count": 36,
     "metadata": {},
     "output_type": "execute_result"
    }
   ],
   "source": [
    "folders = []\n",
    "[folders.append('/Users/dominikpeter/Homework/mining/Tensorflow/HMP_Dataset' + '/' + word) for word in subfolder]\n",
    "folders[0:5]"
   ]
  },
  {
   "cell_type": "code",
   "execution_count": 37,
   "metadata": {
    "collapsed": false
   },
   "outputs": [
    {
     "data": {
      "text/plain": [
       "['/Users/dominikpeter/Homework/mining/Tensorflow/HMP_Dataset/Brush_teeth/Accelerometer-2011-04-11-13-28-18-brush_teeth-f1.txt',\n",
       " '/Users/dominikpeter/Homework/mining/Tensorflow/HMP_Dataset/Brush_teeth/Accelerometer-2011-04-11-13-29-54-brush_teeth-f1.txt',\n",
       " '/Users/dominikpeter/Homework/mining/Tensorflow/HMP_Dataset/Brush_teeth/Accelerometer-2011-05-30-08-35-11-brush_teeth-f1.txt',\n",
       " '/Users/dominikpeter/Homework/mining/Tensorflow/HMP_Dataset/Brush_teeth/Accelerometer-2011-05-30-09-36-50-brush_teeth-f1.txt',\n",
       " '/Users/dominikpeter/Homework/mining/Tensorflow/HMP_Dataset/Brush_teeth/Accelerometer-2011-05-30-10-34-16-brush_teeth-m1.txt']"
      ]
     },
     "execution_count": 37,
     "metadata": {},
     "output_type": "execute_result"
    }
   ],
   "source": [
    "files = []\n",
    "for folder in folders:\n",
    "    [files.append(folder + '/' + f) for f in listdir(folder) if f.endswith(\".txt\")]\n",
    "files[0:5]"
   ]
  },
  {
   "cell_type": "code",
   "execution_count": 38,
   "metadata": {
    "collapsed": false
   },
   "outputs": [
    {
     "data": {
      "text/html": [
       "<div>\n",
       "<table border=\"1\" class=\"dataframe\">\n",
       "  <thead>\n",
       "    <tr style=\"text-align: right;\">\n",
       "      <th></th>\n",
       "      <th>x</th>\n",
       "      <th>y</th>\n",
       "      <th>z</th>\n",
       "      <th>label</th>\n",
       "    </tr>\n",
       "  </thead>\n",
       "  <tbody>\n",
       "    <tr>\n",
       "      <th>0</th>\n",
       "      <td>22</td>\n",
       "      <td>49</td>\n",
       "      <td>35</td>\n",
       "      <td>brush_teeth</td>\n",
       "    </tr>\n",
       "    <tr>\n",
       "      <th>1</th>\n",
       "      <td>22</td>\n",
       "      <td>49</td>\n",
       "      <td>35</td>\n",
       "      <td>brush_teeth</td>\n",
       "    </tr>\n",
       "    <tr>\n",
       "      <th>2</th>\n",
       "      <td>22</td>\n",
       "      <td>52</td>\n",
       "      <td>35</td>\n",
       "      <td>brush_teeth</td>\n",
       "    </tr>\n",
       "    <tr>\n",
       "      <th>3</th>\n",
       "      <td>22</td>\n",
       "      <td>52</td>\n",
       "      <td>35</td>\n",
       "      <td>brush_teeth</td>\n",
       "    </tr>\n",
       "    <tr>\n",
       "      <th>4</th>\n",
       "      <td>21</td>\n",
       "      <td>52</td>\n",
       "      <td>34</td>\n",
       "      <td>brush_teeth</td>\n",
       "    </tr>\n",
       "  </tbody>\n",
       "</table>\n",
       "</div>"
      ],
      "text/plain": [
       "    x   y   z        label\n",
       "0  22  49  35  brush_teeth\n",
       "1  22  49  35  brush_teeth\n",
       "2  22  52  35  brush_teeth\n",
       "3  22  52  35  brush_teeth\n",
       "4  21  52  34  brush_teeth"
      ]
     },
     "execution_count": 38,
     "metadata": {},
     "output_type": "execute_result"
    }
   ],
   "source": [
    "df = []\n",
    "for file in files:\n",
    "    new_df = pd.read_csv(file, sep = ' ', header=None, names = ['x', 'y', 'z'])\n",
    "    new_df['label'] = re.search('-\\w+-', file[::-1]).group(0)[::-1].replace('-', '')\n",
    "    df.append(new_df)\n",
    "df = pd.concat(df, axis=0)\n",
    "df.head()"
   ]
  },
  {
   "cell_type": "code",
   "execution_count": 39,
   "metadata": {
    "collapsed": false
   },
   "outputs": [
    {
     "data": {
      "text/plain": [
       "(479289, 4)"
      ]
     },
     "execution_count": 39,
     "metadata": {},
     "output_type": "execute_result"
    }
   ],
   "source": [
    "df.shape"
   ]
  },
  {
   "cell_type": "code",
   "execution_count": 40,
   "metadata": {
    "collapsed": false
   },
   "outputs": [
    {
     "data": {
      "text/html": [
       "<div>\n",
       "<table border=\"1\" class=\"dataframe\">\n",
       "  <thead>\n",
       "    <tr style=\"text-align: right;\">\n",
       "      <th></th>\n",
       "      <th>x</th>\n",
       "      <th>y</th>\n",
       "      <th>z</th>\n",
       "      <th>label</th>\n",
       "      <th>x.mean</th>\n",
       "      <th>y.mean</th>\n",
       "      <th>z.mean</th>\n",
       "    </tr>\n",
       "  </thead>\n",
       "  <tbody>\n",
       "    <tr>\n",
       "      <th>0</th>\n",
       "      <td>22</td>\n",
       "      <td>49</td>\n",
       "      <td>35</td>\n",
       "      <td>brush_teeth</td>\n",
       "      <td>27.654397</td>\n",
       "      <td>49.281505</td>\n",
       "      <td>34.500654</td>\n",
       "    </tr>\n",
       "    <tr>\n",
       "      <th>1</th>\n",
       "      <td>22</td>\n",
       "      <td>49</td>\n",
       "      <td>35</td>\n",
       "      <td>brush_teeth</td>\n",
       "      <td>27.654397</td>\n",
       "      <td>49.281505</td>\n",
       "      <td>34.500654</td>\n",
       "    </tr>\n",
       "    <tr>\n",
       "      <th>2</th>\n",
       "      <td>22</td>\n",
       "      <td>52</td>\n",
       "      <td>35</td>\n",
       "      <td>brush_teeth</td>\n",
       "      <td>27.654397</td>\n",
       "      <td>49.281505</td>\n",
       "      <td>34.500654</td>\n",
       "    </tr>\n",
       "    <tr>\n",
       "      <th>3</th>\n",
       "      <td>22</td>\n",
       "      <td>52</td>\n",
       "      <td>35</td>\n",
       "      <td>brush_teeth</td>\n",
       "      <td>27.654397</td>\n",
       "      <td>49.281505</td>\n",
       "      <td>34.500654</td>\n",
       "    </tr>\n",
       "    <tr>\n",
       "      <th>4</th>\n",
       "      <td>21</td>\n",
       "      <td>52</td>\n",
       "      <td>34</td>\n",
       "      <td>brush_teeth</td>\n",
       "      <td>27.654397</td>\n",
       "      <td>49.281505</td>\n",
       "      <td>34.500654</td>\n",
       "    </tr>\n",
       "  </tbody>\n",
       "</table>\n",
       "</div>"
      ],
      "text/plain": [
       "    x   y   z        label     x.mean     y.mean     z.mean\n",
       "0  22  49  35  brush_teeth  27.654397  49.281505  34.500654\n",
       "1  22  49  35  brush_teeth  27.654397  49.281505  34.500654\n",
       "2  22  52  35  brush_teeth  27.654397  49.281505  34.500654\n",
       "3  22  52  35  brush_teeth  27.654397  49.281505  34.500654\n",
       "4  21  52  34  brush_teeth  27.654397  49.281505  34.500654"
      ]
     },
     "execution_count": 40,
     "metadata": {},
     "output_type": "execute_result"
    }
   ],
   "source": [
    "df = df.join(df.groupby('label')[['x', 'y','z']].mean(), on='label', rsuffix='.mean')\n",
    "df.head()"
   ]
  },
  {
   "cell_type": "code",
   "execution_count": 41,
   "metadata": {
    "collapsed": true
   },
   "outputs": [],
   "source": [
    "df['diff.x'] = abs(df['x'] - df['x.mean'])\n",
    "df['diff.y'] = abs(df['y'] - df['y.mean'])\n",
    "df['diff.z'] = abs(df['z'] - df['z.mean'])\n",
    "df['max.y'] = max(df['y'])"
   ]
  },
  {
   "cell_type": "code",
   "execution_count": 42,
   "metadata": {
    "collapsed": false
   },
   "outputs": [
    {
     "data": {
      "text/html": [
       "<div>\n",
       "<table border=\"1\" class=\"dataframe\">\n",
       "  <thead>\n",
       "    <tr style=\"text-align: right;\">\n",
       "      <th></th>\n",
       "      <th>x</th>\n",
       "      <th>y</th>\n",
       "      <th>z</th>\n",
       "      <th>label</th>\n",
       "      <th>x.mean</th>\n",
       "      <th>y.mean</th>\n",
       "      <th>z.mean</th>\n",
       "      <th>diff.x</th>\n",
       "      <th>diff.y</th>\n",
       "      <th>diff.z</th>\n",
       "      <th>max.y</th>\n",
       "    </tr>\n",
       "  </thead>\n",
       "  <tbody>\n",
       "    <tr>\n",
       "      <th>0</th>\n",
       "      <td>22</td>\n",
       "      <td>49</td>\n",
       "      <td>35</td>\n",
       "      <td>brush_teeth</td>\n",
       "      <td>27.654397</td>\n",
       "      <td>49.281505</td>\n",
       "      <td>34.500654</td>\n",
       "      <td>5.654397</td>\n",
       "      <td>0.281505</td>\n",
       "      <td>0.499346</td>\n",
       "      <td>63</td>\n",
       "    </tr>\n",
       "    <tr>\n",
       "      <th>1</th>\n",
       "      <td>22</td>\n",
       "      <td>49</td>\n",
       "      <td>35</td>\n",
       "      <td>brush_teeth</td>\n",
       "      <td>27.654397</td>\n",
       "      <td>49.281505</td>\n",
       "      <td>34.500654</td>\n",
       "      <td>5.654397</td>\n",
       "      <td>0.281505</td>\n",
       "      <td>0.499346</td>\n",
       "      <td>63</td>\n",
       "    </tr>\n",
       "    <tr>\n",
       "      <th>2</th>\n",
       "      <td>22</td>\n",
       "      <td>52</td>\n",
       "      <td>35</td>\n",
       "      <td>brush_teeth</td>\n",
       "      <td>27.654397</td>\n",
       "      <td>49.281505</td>\n",
       "      <td>34.500654</td>\n",
       "      <td>5.654397</td>\n",
       "      <td>2.718495</td>\n",
       "      <td>0.499346</td>\n",
       "      <td>63</td>\n",
       "    </tr>\n",
       "    <tr>\n",
       "      <th>3</th>\n",
       "      <td>22</td>\n",
       "      <td>52</td>\n",
       "      <td>35</td>\n",
       "      <td>brush_teeth</td>\n",
       "      <td>27.654397</td>\n",
       "      <td>49.281505</td>\n",
       "      <td>34.500654</td>\n",
       "      <td>5.654397</td>\n",
       "      <td>2.718495</td>\n",
       "      <td>0.499346</td>\n",
       "      <td>63</td>\n",
       "    </tr>\n",
       "    <tr>\n",
       "      <th>4</th>\n",
       "      <td>21</td>\n",
       "      <td>52</td>\n",
       "      <td>34</td>\n",
       "      <td>brush_teeth</td>\n",
       "      <td>27.654397</td>\n",
       "      <td>49.281505</td>\n",
       "      <td>34.500654</td>\n",
       "      <td>6.654397</td>\n",
       "      <td>2.718495</td>\n",
       "      <td>0.500654</td>\n",
       "      <td>63</td>\n",
       "    </tr>\n",
       "  </tbody>\n",
       "</table>\n",
       "</div>"
      ],
      "text/plain": [
       "    x   y   z        label     x.mean     y.mean     z.mean    diff.x  \\\n",
       "0  22  49  35  brush_teeth  27.654397  49.281505  34.500654  5.654397   \n",
       "1  22  49  35  brush_teeth  27.654397  49.281505  34.500654  5.654397   \n",
       "2  22  52  35  brush_teeth  27.654397  49.281505  34.500654  5.654397   \n",
       "3  22  52  35  brush_teeth  27.654397  49.281505  34.500654  5.654397   \n",
       "4  21  52  34  brush_teeth  27.654397  49.281505  34.500654  6.654397   \n",
       "\n",
       "     diff.y    diff.z  max.y  \n",
       "0  0.281505  0.499346     63  \n",
       "1  0.281505  0.499346     63  \n",
       "2  2.718495  0.499346     63  \n",
       "3  2.718495  0.499346     63  \n",
       "4  2.718495  0.500654     63  "
      ]
     },
     "execution_count": 42,
     "metadata": {},
     "output_type": "execute_result"
    }
   ],
   "source": [
    "df.head()"
   ]
  },
  {
   "cell_type": "code",
   "execution_count": 43,
   "metadata": {
    "collapsed": false
   },
   "outputs": [
    {
     "data": {
      "text/plain": [
       "array(['brush_teeth', 'climb_stairs', 'comb_hair', 'descend_stairs',\n",
       "       'drink_glass', 'eat_meat', 'eat_soup', 'getup_bed', 'liedown_bed',\n",
       "       'pour_water', 'sitdown_chair', 'standup_chair', 'use_telephone',\n",
       "       'walk'], dtype=object)"
      ]
     },
     "execution_count": 43,
     "metadata": {},
     "output_type": "execute_result"
    }
   ],
   "source": [
    "le = preprocessing.LabelEncoder()\n",
    "le.fit(df['label'])\n",
    "le.classes_"
   ]
  },
  {
   "cell_type": "code",
   "execution_count": 44,
   "metadata": {
    "collapsed": false
   },
   "outputs": [],
   "source": [
    "df['class'] = le.transform(df['label'])"
   ]
  },
  {
   "cell_type": "code",
   "execution_count": 45,
   "metadata": {
    "collapsed": false
   },
   "outputs": [
    {
     "data": {
      "text/html": [
       "<div>\n",
       "<table border=\"1\" class=\"dataframe\">\n",
       "  <thead>\n",
       "    <tr style=\"text-align: right;\">\n",
       "      <th></th>\n",
       "      <th>0</th>\n",
       "      <th>1</th>\n",
       "      <th>2</th>\n",
       "      <th>3</th>\n",
       "      <th>4</th>\n",
       "      <th>5</th>\n",
       "      <th>6</th>\n",
       "      <th>7</th>\n",
       "      <th>8</th>\n",
       "      <th>9</th>\n",
       "      <th>10</th>\n",
       "      <th>11</th>\n",
       "      <th>12</th>\n",
       "      <th>13</th>\n",
       "    </tr>\n",
       "  </thead>\n",
       "  <tbody>\n",
       "    <tr>\n",
       "      <th>0</th>\n",
       "      <td>1</td>\n",
       "      <td>0</td>\n",
       "      <td>0</td>\n",
       "      <td>0</td>\n",
       "      <td>0</td>\n",
       "      <td>0</td>\n",
       "      <td>0</td>\n",
       "      <td>0</td>\n",
       "      <td>0</td>\n",
       "      <td>0</td>\n",
       "      <td>0</td>\n",
       "      <td>0</td>\n",
       "      <td>0</td>\n",
       "      <td>0</td>\n",
       "    </tr>\n",
       "    <tr>\n",
       "      <th>1</th>\n",
       "      <td>1</td>\n",
       "      <td>0</td>\n",
       "      <td>0</td>\n",
       "      <td>0</td>\n",
       "      <td>0</td>\n",
       "      <td>0</td>\n",
       "      <td>0</td>\n",
       "      <td>0</td>\n",
       "      <td>0</td>\n",
       "      <td>0</td>\n",
       "      <td>0</td>\n",
       "      <td>0</td>\n",
       "      <td>0</td>\n",
       "      <td>0</td>\n",
       "    </tr>\n",
       "    <tr>\n",
       "      <th>2</th>\n",
       "      <td>1</td>\n",
       "      <td>0</td>\n",
       "      <td>0</td>\n",
       "      <td>0</td>\n",
       "      <td>0</td>\n",
       "      <td>0</td>\n",
       "      <td>0</td>\n",
       "      <td>0</td>\n",
       "      <td>0</td>\n",
       "      <td>0</td>\n",
       "      <td>0</td>\n",
       "      <td>0</td>\n",
       "      <td>0</td>\n",
       "      <td>0</td>\n",
       "    </tr>\n",
       "    <tr>\n",
       "      <th>3</th>\n",
       "      <td>1</td>\n",
       "      <td>0</td>\n",
       "      <td>0</td>\n",
       "      <td>0</td>\n",
       "      <td>0</td>\n",
       "      <td>0</td>\n",
       "      <td>0</td>\n",
       "      <td>0</td>\n",
       "      <td>0</td>\n",
       "      <td>0</td>\n",
       "      <td>0</td>\n",
       "      <td>0</td>\n",
       "      <td>0</td>\n",
       "      <td>0</td>\n",
       "    </tr>\n",
       "    <tr>\n",
       "      <th>4</th>\n",
       "      <td>1</td>\n",
       "      <td>0</td>\n",
       "      <td>0</td>\n",
       "      <td>0</td>\n",
       "      <td>0</td>\n",
       "      <td>0</td>\n",
       "      <td>0</td>\n",
       "      <td>0</td>\n",
       "      <td>0</td>\n",
       "      <td>0</td>\n",
       "      <td>0</td>\n",
       "      <td>0</td>\n",
       "      <td>0</td>\n",
       "      <td>0</td>\n",
       "    </tr>\n",
       "  </tbody>\n",
       "</table>\n",
       "</div>"
      ],
      "text/plain": [
       "   0   1   2   3   4   5   6   7   8   9   10  11  12  13\n",
       "0   1   0   0   0   0   0   0   0   0   0   0   0   0   0\n",
       "1   1   0   0   0   0   0   0   0   0   0   0   0   0   0\n",
       "2   1   0   0   0   0   0   0   0   0   0   0   0   0   0\n",
       "3   1   0   0   0   0   0   0   0   0   0   0   0   0   0\n",
       "4   1   0   0   0   0   0   0   0   0   0   0   0   0   0"
      ]
     },
     "execution_count": 45,
     "metadata": {},
     "output_type": "execute_result"
    }
   ],
   "source": [
    "y = pd.get_dummies(df['class'])\n",
    "y.head()"
   ]
  },
  {
   "cell_type": "code",
   "execution_count": 46,
   "metadata": {
    "collapsed": false
   },
   "outputs": [],
   "source": [
    "X = df.iloc[:, [0,1,2,4,5,6,7,8,9]]\n",
    "#X = df.iloc[:, [0,1,2]]"
   ]
  },
  {
   "cell_type": "code",
   "execution_count": 47,
   "metadata": {
    "collapsed": true
   },
   "outputs": [],
   "source": [
    "X = X.as_matrix()\n",
    "y = y.as_matrix()"
   ]
  },
  {
   "cell_type": "code",
   "execution_count": 48,
   "metadata": {
    "collapsed": false
   },
   "outputs": [],
   "source": [
    "normalizer = preprocessing.Normalizer().fit(X)\n",
    "X = normalizer.transform(X)\n",
    "#scaler = preprocessing.StandardScaler().fit(X)\n",
    "#X = scaler.transform(X)"
   ]
  },
  {
   "cell_type": "code",
   "execution_count": 49,
   "metadata": {
    "collapsed": false
   },
   "outputs": [],
   "source": [
    "X_train, X_test, y_train, y_test = train_test_split(X, y, test_size=0.33, random_state=42)"
   ]
  },
  {
   "cell_type": "code",
   "execution_count": 50,
   "metadata": {
    "collapsed": false
   },
   "outputs": [
    {
     "name": "stdout",
     "output_type": "stream",
     "text": [
      "(479289, 9) (479289, 14)\n"
     ]
    }
   ],
   "source": [
    "print(X.shape, y.shape)"
   ]
  },
  {
   "cell_type": "code",
   "execution_count": 51,
   "metadata": {
    "collapsed": false
   },
   "outputs": [],
   "source": [
    "x = tf.placeholder(tf.float32, [None, X.shape[1]])"
   ]
  },
  {
   "cell_type": "code",
   "execution_count": 52,
   "metadata": {
    "collapsed": false
   },
   "outputs": [
    {
     "data": {
      "text/plain": [
       "9"
      ]
     },
     "execution_count": 52,
     "metadata": {},
     "output_type": "execute_result"
    }
   ],
   "source": [
    "y.shape[1]\n",
    "X.shape[1]"
   ]
  },
  {
   "cell_type": "code",
   "execution_count": 53,
   "metadata": {
    "collapsed": false
   },
   "outputs": [],
   "source": [
    "W = tf.Variable(tf.zeros([X.shape[1], y.shape[1]]))\n",
    "b = tf.Variable(tf.zeros([y.shape[1]]))"
   ]
  },
  {
   "cell_type": "code",
   "execution_count": 54,
   "metadata": {
    "collapsed": false
   },
   "outputs": [],
   "source": [
    "y = tf.nn.softmax(tf.matmul(x, W) + b)\n",
    "y_ = tf.placeholder(tf.float32, [None, y.shape[1]])"
   ]
  },
  {
   "cell_type": "code",
   "execution_count": 55,
   "metadata": {
    "collapsed": true
   },
   "outputs": [],
   "source": [
    "cross_entropy = tf.reduce_mean(-tf.reduce_sum(y_ * tf.log(y), reduction_indices=[1]))"
   ]
  },
  {
   "cell_type": "code",
   "execution_count": 56,
   "metadata": {
    "collapsed": true
   },
   "outputs": [],
   "source": [
    "train_step = tf.train.GradientDescentOptimizer(0.5).minimize(cross_entropy)"
   ]
  },
  {
   "cell_type": "code",
   "execution_count": 57,
   "metadata": {
    "collapsed": true
   },
   "outputs": [],
   "source": [
    "sess = tf.InteractiveSession()"
   ]
  },
  {
   "cell_type": "code",
   "execution_count": 58,
   "metadata": {
    "collapsed": true
   },
   "outputs": [],
   "source": [
    "tf.global_variables_initializer().run()"
   ]
  },
  {
   "cell_type": "code",
   "execution_count": 59,
   "metadata": {
    "collapsed": false
   },
   "outputs": [],
   "source": [
    "i = 0\n",
    "while i < 100:\n",
    "    for start, end in zip(range(0, len(X_train), 150), range(150, len(X_train)+1, 150)):\n",
    "            sess.run(train_step, feed_dict={x: X_train[start:end], y_: y_train[start:end]})\n",
    "    i += 1"
   ]
  },
  {
   "cell_type": "code",
   "execution_count": 63,
   "metadata": {
    "collapsed": true
   },
   "outputs": [],
   "source": [
    "correct_prediction = tf.equal(tf.argmax(y,1), tf.argmax(y_,1))"
   ]
  },
  {
   "cell_type": "code",
   "execution_count": 64,
   "metadata": {
    "collapsed": true
   },
   "outputs": [],
   "source": [
    "accuracy = tf.reduce_mean(tf.cast(correct_prediction, tf.float32))"
   ]
  },
  {
   "cell_type": "code",
   "execution_count": 65,
   "metadata": {
    "collapsed": false
   },
   "outputs": [
    {
     "name": "stdout",
     "output_type": "stream",
     "text": [
      "0.820088\n"
     ]
    }
   ],
   "source": [
    "print(sess.run(accuracy, feed_dict={x: X_test, y_: y_test}))"
   ]
  },
  {
   "cell_type": "code",
   "execution_count": null,
   "metadata": {
    "collapsed": true
   },
   "outputs": [],
   "source": []
  },
  {
   "cell_type": "code",
   "execution_count": null,
   "metadata": {
    "collapsed": true
   },
   "outputs": [],
   "source": []
  }
 ],
 "metadata": {
  "kernelspec": {
   "display_name": "Python 3",
   "language": "python",
   "name": "python3"
  },
  "language_info": {
   "codemirror_mode": {
    "name": "ipython",
    "version": 3
   },
   "file_extension": ".py",
   "mimetype": "text/x-python",
   "name": "python",
   "nbconvert_exporter": "python",
   "pygments_lexer": "ipython3",
   "version": "3.6.0"
  }
 },
 "nbformat": 4,
 "nbformat_minor": 2
}
