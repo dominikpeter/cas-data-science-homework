{
 "cells": [
  {
   "cell_type": "code",
   "execution_count": 1,
   "metadata": {
    "collapsed": false
   },
   "outputs": [],
   "source": [
    "import os\n",
    "import math\n",
    "import pandas as pd\n",
    "import numpy as np\n",
    "import re\n",
    "from sklearn.model_selection import train_test_split, cross_val_score\n",
    "from sklearn.metrics import roc_curve, auc, roc_auc_score, accuracy_score, classification_report\n",
    "from sklearn.decomposition import PCA\n",
    "from sklearn.svm import SVC, LinearSVC\n",
    "from sklearn.linear_model import LogisticRegression\n",
    "from sklearn.multiclass import OneVsRestClassifier, OneVsOneClassifier\n",
    "from sklearn.neighbors.nearest_centroid import NearestCentroid\n",
    "from sklearn.ensemble import AdaBoostClassifier, VotingClassifier, RandomForestClassifier\n",
    "from sklearn.naive_bayes import GaussianNB\n",
    "from sklearn.neighbors import KNeighborsClassifier, NearestNeighbors\n",
    "from sklearn.multioutput import MultiOutputClassifier\n",
    "from sklearn.preprocessing import MultiLabelBinarizer, Normalizer, StandardScaler\n",
    "from sklearn.externals import joblib"
   ]
  },
  {
   "cell_type": "code",
   "execution_count": 2,
   "metadata": {
    "collapsed": false
   },
   "outputs": [
    {
     "data": {
      "text/plain": [
       "'/Users/dominikpeter/Homework/mining/Uebung2'"
      ]
     },
     "execution_count": 2,
     "metadata": {},
     "output_type": "execute_result"
    }
   ],
   "source": [
    "os.getcwd()"
   ]
  },
  {
   "cell_type": "code",
   "execution_count": 3,
   "metadata": {
    "collapsed": false
   },
   "outputs": [],
   "source": [
    "x = [x for x in os.walk('/Users/dominikpeter/Homework/mining/HMP_Dataset')]"
   ]
  },
  {
   "cell_type": "code",
   "execution_count": 4,
   "metadata": {
    "collapsed": false
   },
   "outputs": [
    {
     "data": {
      "text/plain": [
       "['Brush_teeth',\n",
       " 'Climb_stairs',\n",
       " 'Climb_stairs_MODEL',\n",
       " 'Comb_hair',\n",
       " 'Descend_stairs']"
      ]
     },
     "execution_count": 4,
     "metadata": {},
     "output_type": "execute_result"
    }
   ],
   "source": [
    "subfolder = x[0][1]\n",
    "subfolder[0:5]"
   ]
  },
  {
   "cell_type": "code",
   "execution_count": 5,
   "metadata": {
    "collapsed": false
   },
   "outputs": [
    {
     "data": {
      "text/plain": [
       "['/Users/dominikpeter/Homework/mining/HMP_Dataset/Brush_teeth',\n",
       " '/Users/dominikpeter/Homework/mining/HMP_Dataset/Climb_stairs',\n",
       " '/Users/dominikpeter/Homework/mining/HMP_Dataset/Climb_stairs_MODEL',\n",
       " '/Users/dominikpeter/Homework/mining/HMP_Dataset/Comb_hair',\n",
       " '/Users/dominikpeter/Homework/mining/HMP_Dataset/Descend_stairs']"
      ]
     },
     "execution_count": 5,
     "metadata": {},
     "output_type": "execute_result"
    }
   ],
   "source": [
    "folders = []\n",
    "[folders.append('/Users/dominikpeter/Homework/mining/HMP_Dataset' + '/' + word) for word in subfolder]\n",
    "folders[0:5]"
   ]
  },
  {
   "cell_type": "code",
   "execution_count": 6,
   "metadata": {
    "collapsed": false
   },
   "outputs": [
    {
     "data": {
      "text/plain": [
       "['/Users/dominikpeter/Homework/mining/HMP_Dataset/Brush_teeth/Accelerometer-2011-04-11-13-28-18-brush_teeth-f1.txt',\n",
       " '/Users/dominikpeter/Homework/mining/HMP_Dataset/Brush_teeth/Accelerometer-2011-04-11-13-29-54-brush_teeth-f1.txt',\n",
       " '/Users/dominikpeter/Homework/mining/HMP_Dataset/Brush_teeth/Accelerometer-2011-05-30-08-35-11-brush_teeth-f1.txt',\n",
       " '/Users/dominikpeter/Homework/mining/HMP_Dataset/Brush_teeth/Accelerometer-2011-05-30-09-36-50-brush_teeth-f1.txt',\n",
       " '/Users/dominikpeter/Homework/mining/HMP_Dataset/Brush_teeth/Accelerometer-2011-05-30-10-34-16-brush_teeth-m1.txt']"
      ]
     },
     "execution_count": 6,
     "metadata": {},
     "output_type": "execute_result"
    }
   ],
   "source": [
    "files = []\n",
    "for folder in folders:\n",
    "    [files.append(folder + '/' + f) for f in os.listdir(folder) if f.endswith(\".txt\")]\n",
    "files[0:5]"
   ]
  },
  {
   "cell_type": "code",
   "execution_count": 7,
   "metadata": {
    "collapsed": false
   },
   "outputs": [
    {
     "data": {
      "text/html": [
       "<div>\n",
       "<table border=\"1\" class=\"dataframe\">\n",
       "  <thead>\n",
       "    <tr style=\"text-align: right;\">\n",
       "      <th></th>\n",
       "      <th>x</th>\n",
       "      <th>y</th>\n",
       "      <th>z</th>\n",
       "      <th>label</th>\n",
       "    </tr>\n",
       "  </thead>\n",
       "  <tbody>\n",
       "    <tr>\n",
       "      <th>0</th>\n",
       "      <td>22</td>\n",
       "      <td>49</td>\n",
       "      <td>35</td>\n",
       "      <td>brush_teeth</td>\n",
       "    </tr>\n",
       "    <tr>\n",
       "      <th>1</th>\n",
       "      <td>22</td>\n",
       "      <td>49</td>\n",
       "      <td>35</td>\n",
       "      <td>brush_teeth</td>\n",
       "    </tr>\n",
       "    <tr>\n",
       "      <th>2</th>\n",
       "      <td>22</td>\n",
       "      <td>52</td>\n",
       "      <td>35</td>\n",
       "      <td>brush_teeth</td>\n",
       "    </tr>\n",
       "    <tr>\n",
       "      <th>3</th>\n",
       "      <td>22</td>\n",
       "      <td>52</td>\n",
       "      <td>35</td>\n",
       "      <td>brush_teeth</td>\n",
       "    </tr>\n",
       "    <tr>\n",
       "      <th>4</th>\n",
       "      <td>21</td>\n",
       "      <td>52</td>\n",
       "      <td>34</td>\n",
       "      <td>brush_teeth</td>\n",
       "    </tr>\n",
       "  </tbody>\n",
       "</table>\n",
       "</div>"
      ],
      "text/plain": [
       "    x   y   z        label\n",
       "0  22  49  35  brush_teeth\n",
       "1  22  49  35  brush_teeth\n",
       "2  22  52  35  brush_teeth\n",
       "3  22  52  35  brush_teeth\n",
       "4  21  52  34  brush_teeth"
      ]
     },
     "execution_count": 7,
     "metadata": {},
     "output_type": "execute_result"
    }
   ],
   "source": [
    "df = []\n",
    "for file in files:\n",
    "    new_df = pd.read_csv(file, sep = ' ', header=None, names = ['x', 'y', 'z'])\n",
    "    new_df['label'] = re.search('-\\w+-', file[::-1]).group(0)[::-1].replace('-', '')\n",
    "    df.append(new_df)\n",
    "df = pd.concat(df, axis=0)\n",
    "df.head()"
   ]
  },
  {
   "cell_type": "code",
   "execution_count": 8,
   "metadata": {
    "collapsed": false
   },
   "outputs": [
    {
     "name": "stdout",
     "output_type": "stream",
     "text": [
      "(455324, 4)\n",
      "(23965, 4)\n"
     ]
    }
   ],
   "source": [
    "df, final = train_test_split(df, test_size=0.05, random_state=42)\n",
    "final.copy(deep=True)\n",
    "print(df.shape)\n",
    "print(final.shape)"
   ]
  },
  {
   "cell_type": "code",
   "execution_count": 9,
   "metadata": {
    "collapsed": false
   },
   "outputs": [
    {
     "data": {
      "text/html": [
       "<div>\n",
       "<table border=\"1\" class=\"dataframe\">\n",
       "  <thead>\n",
       "    <tr style=\"text-align: right;\">\n",
       "      <th></th>\n",
       "      <th>x</th>\n",
       "      <th>y</th>\n",
       "      <th>z</th>\n",
       "      <th>label</th>\n",
       "      <th>x.mean</th>\n",
       "      <th>y.mean</th>\n",
       "      <th>z.mean</th>\n",
       "    </tr>\n",
       "  </thead>\n",
       "  <tbody>\n",
       "    <tr>\n",
       "      <th>50</th>\n",
       "      <td>8</td>\n",
       "      <td>35</td>\n",
       "      <td>32</td>\n",
       "      <td>walk</td>\n",
       "      <td>13.731728</td>\n",
       "      <td>37.926308</td>\n",
       "      <td>35.492101</td>\n",
       "    </tr>\n",
       "    <tr>\n",
       "      <th>1844</th>\n",
       "      <td>46</td>\n",
       "      <td>30</td>\n",
       "      <td>47</td>\n",
       "      <td>use_telephone</td>\n",
       "      <td>42.540178</td>\n",
       "      <td>34.308367</td>\n",
       "      <td>46.382920</td>\n",
       "    </tr>\n",
       "    <tr>\n",
       "      <th>219</th>\n",
       "      <td>42</td>\n",
       "      <td>30</td>\n",
       "      <td>50</td>\n",
       "      <td>drink_glass</td>\n",
       "      <td>35.961100</td>\n",
       "      <td>38.180452</td>\n",
       "      <td>49.059692</td>\n",
       "    </tr>\n",
       "    <tr>\n",
       "      <th>258</th>\n",
       "      <td>11</td>\n",
       "      <td>37</td>\n",
       "      <td>38</td>\n",
       "      <td>getup_bed</td>\n",
       "      <td>22.617680</td>\n",
       "      <td>35.520320</td>\n",
       "      <td>42.387810</td>\n",
       "    </tr>\n",
       "    <tr>\n",
       "      <th>105</th>\n",
       "      <td>20</td>\n",
       "      <td>39</td>\n",
       "      <td>48</td>\n",
       "      <td>standup_chair</td>\n",
       "      <td>19.495057</td>\n",
       "      <td>38.471185</td>\n",
       "      <td>40.862149</td>\n",
       "    </tr>\n",
       "  </tbody>\n",
       "</table>\n",
       "</div>"
      ],
      "text/plain": [
       "       x   y   z          label     x.mean     y.mean     z.mean\n",
       "50     8  35  32           walk  13.731728  37.926308  35.492101\n",
       "1844  46  30  47  use_telephone  42.540178  34.308367  46.382920\n",
       "219   42  30  50    drink_glass  35.961100  38.180452  49.059692\n",
       "258   11  37  38      getup_bed  22.617680  35.520320  42.387810\n",
       "105   20  39  48  standup_chair  19.495057  38.471185  40.862149"
      ]
     },
     "execution_count": 9,
     "metadata": {},
     "output_type": "execute_result"
    }
   ],
   "source": [
    "df = df.join(df.groupby('label')[['x', 'y','z']].mean(), on='label', rsuffix='.mean')\n",
    "df.head()"
   ]
  },
  {
   "cell_type": "code",
   "execution_count": 10,
   "metadata": {
    "collapsed": true
   },
   "outputs": [],
   "source": [
    "df['diff.x'] = abs(df['x'] - df['x.mean'])\n",
    "df['diff.y'] = abs(df['y'] - df['y.mean'])\n",
    "df['diff.z'] = abs(df['z'] - df['z.mean'])\n",
    "df['max.y'] = max(df['y'])"
   ]
  },
  {
   "cell_type": "code",
   "execution_count": 11,
   "metadata": {
    "collapsed": false
   },
   "outputs": [
    {
     "data": {
      "text/html": [
       "<div>\n",
       "<table border=\"1\" class=\"dataframe\">\n",
       "  <thead>\n",
       "    <tr style=\"text-align: right;\">\n",
       "      <th></th>\n",
       "      <th>x</th>\n",
       "      <th>y</th>\n",
       "      <th>z</th>\n",
       "      <th>label</th>\n",
       "      <th>x.mean</th>\n",
       "      <th>y.mean</th>\n",
       "      <th>z.mean</th>\n",
       "      <th>diff.x</th>\n",
       "      <th>diff.y</th>\n",
       "      <th>diff.z</th>\n",
       "      <th>max.y</th>\n",
       "    </tr>\n",
       "  </thead>\n",
       "  <tbody>\n",
       "    <tr>\n",
       "      <th>50</th>\n",
       "      <td>8</td>\n",
       "      <td>35</td>\n",
       "      <td>32</td>\n",
       "      <td>walk</td>\n",
       "      <td>13.731728</td>\n",
       "      <td>37.926308</td>\n",
       "      <td>35.492101</td>\n",
       "      <td>5.731728</td>\n",
       "      <td>2.926308</td>\n",
       "      <td>3.492101</td>\n",
       "      <td>63</td>\n",
       "    </tr>\n",
       "    <tr>\n",
       "      <th>1844</th>\n",
       "      <td>46</td>\n",
       "      <td>30</td>\n",
       "      <td>47</td>\n",
       "      <td>use_telephone</td>\n",
       "      <td>42.540178</td>\n",
       "      <td>34.308367</td>\n",
       "      <td>46.382920</td>\n",
       "      <td>3.459822</td>\n",
       "      <td>4.308367</td>\n",
       "      <td>0.617080</td>\n",
       "      <td>63</td>\n",
       "    </tr>\n",
       "    <tr>\n",
       "      <th>219</th>\n",
       "      <td>42</td>\n",
       "      <td>30</td>\n",
       "      <td>50</td>\n",
       "      <td>drink_glass</td>\n",
       "      <td>35.961100</td>\n",
       "      <td>38.180452</td>\n",
       "      <td>49.059692</td>\n",
       "      <td>6.038900</td>\n",
       "      <td>8.180452</td>\n",
       "      <td>0.940308</td>\n",
       "      <td>63</td>\n",
       "    </tr>\n",
       "    <tr>\n",
       "      <th>258</th>\n",
       "      <td>11</td>\n",
       "      <td>37</td>\n",
       "      <td>38</td>\n",
       "      <td>getup_bed</td>\n",
       "      <td>22.617680</td>\n",
       "      <td>35.520320</td>\n",
       "      <td>42.387810</td>\n",
       "      <td>11.617680</td>\n",
       "      <td>1.479680</td>\n",
       "      <td>4.387810</td>\n",
       "      <td>63</td>\n",
       "    </tr>\n",
       "    <tr>\n",
       "      <th>105</th>\n",
       "      <td>20</td>\n",
       "      <td>39</td>\n",
       "      <td>48</td>\n",
       "      <td>standup_chair</td>\n",
       "      <td>19.495057</td>\n",
       "      <td>38.471185</td>\n",
       "      <td>40.862149</td>\n",
       "      <td>0.504943</td>\n",
       "      <td>0.528815</td>\n",
       "      <td>7.137851</td>\n",
       "      <td>63</td>\n",
       "    </tr>\n",
       "  </tbody>\n",
       "</table>\n",
       "</div>"
      ],
      "text/plain": [
       "       x   y   z          label     x.mean     y.mean     z.mean     diff.x  \\\n",
       "50     8  35  32           walk  13.731728  37.926308  35.492101   5.731728   \n",
       "1844  46  30  47  use_telephone  42.540178  34.308367  46.382920   3.459822   \n",
       "219   42  30  50    drink_glass  35.961100  38.180452  49.059692   6.038900   \n",
       "258   11  37  38      getup_bed  22.617680  35.520320  42.387810  11.617680   \n",
       "105   20  39  48  standup_chair  19.495057  38.471185  40.862149   0.504943   \n",
       "\n",
       "        diff.y    diff.z  max.y  \n",
       "50    2.926308  3.492101     63  \n",
       "1844  4.308367  0.617080     63  \n",
       "219   8.180452  0.940308     63  \n",
       "258   1.479680  4.387810     63  \n",
       "105   0.528815  7.137851     63  "
      ]
     },
     "execution_count": 11,
     "metadata": {},
     "output_type": "execute_result"
    }
   ],
   "source": [
    "df.head()"
   ]
  },
  {
   "cell_type": "code",
   "execution_count": 12,
   "metadata": {
    "collapsed": false
   },
   "outputs": [],
   "source": [
    "mlb = MultiLabelBinarizer()\n",
    "y = mlb.fit_transform(df['label'])"
   ]
  },
  {
   "cell_type": "code",
   "execution_count": 13,
   "metadata": {
    "collapsed": false
   },
   "outputs": [
    {
     "data": {
      "text/html": [
       "<div>\n",
       "<table border=\"1\" class=\"dataframe\">\n",
       "  <thead>\n",
       "    <tr style=\"text-align: right;\">\n",
       "      <th></th>\n",
       "      <th>x</th>\n",
       "      <th>y</th>\n",
       "      <th>z</th>\n",
       "      <th>x.mean</th>\n",
       "      <th>y.mean</th>\n",
       "      <th>z.mean</th>\n",
       "      <th>diff.x</th>\n",
       "      <th>diff.y</th>\n",
       "      <th>diff.z</th>\n",
       "    </tr>\n",
       "  </thead>\n",
       "  <tbody>\n",
       "    <tr>\n",
       "      <th>50</th>\n",
       "      <td>8</td>\n",
       "      <td>35</td>\n",
       "      <td>32</td>\n",
       "      <td>13.731728</td>\n",
       "      <td>37.926308</td>\n",
       "      <td>35.492101</td>\n",
       "      <td>5.731728</td>\n",
       "      <td>2.926308</td>\n",
       "      <td>3.492101</td>\n",
       "    </tr>\n",
       "    <tr>\n",
       "      <th>1844</th>\n",
       "      <td>46</td>\n",
       "      <td>30</td>\n",
       "      <td>47</td>\n",
       "      <td>42.540178</td>\n",
       "      <td>34.308367</td>\n",
       "      <td>46.382920</td>\n",
       "      <td>3.459822</td>\n",
       "      <td>4.308367</td>\n",
       "      <td>0.617080</td>\n",
       "    </tr>\n",
       "    <tr>\n",
       "      <th>219</th>\n",
       "      <td>42</td>\n",
       "      <td>30</td>\n",
       "      <td>50</td>\n",
       "      <td>35.961100</td>\n",
       "      <td>38.180452</td>\n",
       "      <td>49.059692</td>\n",
       "      <td>6.038900</td>\n",
       "      <td>8.180452</td>\n",
       "      <td>0.940308</td>\n",
       "    </tr>\n",
       "    <tr>\n",
       "      <th>258</th>\n",
       "      <td>11</td>\n",
       "      <td>37</td>\n",
       "      <td>38</td>\n",
       "      <td>22.617680</td>\n",
       "      <td>35.520320</td>\n",
       "      <td>42.387810</td>\n",
       "      <td>11.617680</td>\n",
       "      <td>1.479680</td>\n",
       "      <td>4.387810</td>\n",
       "    </tr>\n",
       "    <tr>\n",
       "      <th>105</th>\n",
       "      <td>20</td>\n",
       "      <td>39</td>\n",
       "      <td>48</td>\n",
       "      <td>19.495057</td>\n",
       "      <td>38.471185</td>\n",
       "      <td>40.862149</td>\n",
       "      <td>0.504943</td>\n",
       "      <td>0.528815</td>\n",
       "      <td>7.137851</td>\n",
       "    </tr>\n",
       "  </tbody>\n",
       "</table>\n",
       "</div>"
      ],
      "text/plain": [
       "       x   y   z     x.mean     y.mean     z.mean     diff.x    diff.y  \\\n",
       "50     8  35  32  13.731728  37.926308  35.492101   5.731728  2.926308   \n",
       "1844  46  30  47  42.540178  34.308367  46.382920   3.459822  4.308367   \n",
       "219   42  30  50  35.961100  38.180452  49.059692   6.038900  8.180452   \n",
       "258   11  37  38  22.617680  35.520320  42.387810  11.617680  1.479680   \n",
       "105   20  39  48  19.495057  38.471185  40.862149   0.504943  0.528815   \n",
       "\n",
       "        diff.z  \n",
       "50    3.492101  \n",
       "1844  0.617080  \n",
       "219   0.940308  \n",
       "258   4.387810  \n",
       "105   7.137851  "
      ]
     },
     "execution_count": 13,
     "metadata": {},
     "output_type": "execute_result"
    }
   ],
   "source": [
    "X = df.iloc[:, np.delete(np.arange(10),3)]\n",
    "X.head()\n",
    "#X = df.iloc[:, [0,1,2]]"
   ]
  },
  {
   "cell_type": "code",
   "execution_count": 14,
   "metadata": {
    "collapsed": false
   },
   "outputs": [],
   "source": [
    "normalizer = Normalizer().fit(X)\n",
    "X = normalizer.transform(X)\n",
    "scaler = StandardScaler().fit(X)\n",
    "X = scaler.transform(X)"
   ]
  },
  {
   "cell_type": "code",
   "execution_count": 15,
   "metadata": {
    "collapsed": false
   },
   "outputs": [],
   "source": [
    "X_train, X_test, y_train, y_test = train_test_split(X, y, test_size=0.33, random_state=42)"
   ]
  },
  {
   "cell_type": "code",
   "execution_count": 16,
   "metadata": {
    "collapsed": true
   },
   "outputs": [],
   "source": [
    "pca = PCA(n_components=3)\n",
    "X_train = pca.fit_transform(X_train)\n",
    "X_test = pca.fit_transform(X_test)"
   ]
  },
  {
   "cell_type": "code",
   "execution_count": 17,
   "metadata": {
    "collapsed": false
   },
   "outputs": [
    {
     "name": "stdout",
     "output_type": "stream",
     "text": [
      "(455324, 9) (455324, 20)\n"
     ]
    }
   ],
   "source": [
    "print(X.shape, y.shape)"
   ]
  },
  {
   "cell_type": "code",
   "execution_count": 18,
   "metadata": {
    "collapsed": false
   },
   "outputs": [
    {
     "data": {
      "text/plain": [
       "OneVsRestClassifier(estimator=RandomForestClassifier(bootstrap=True, class_weight=None, criterion='gini',\n",
       "            max_depth=None, max_features='auto', max_leaf_nodes=None,\n",
       "            min_impurity_split=1e-07, min_samples_leaf=1,\n",
       "            min_samples_split=2, min_weight_fraction_leaf=0.0,\n",
       "            n_estimators=100, n_jobs=4, oob_score=False, random_state=None,\n",
       "            verbose=0, warm_start=False),\n",
       "          n_jobs=4)"
      ]
     },
     "execution_count": 18,
     "metadata": {},
     "output_type": "execute_result"
    }
   ],
   "source": [
    "model1 = OneVsRestClassifier(RandomForestClassifier(n_estimators=100, n_jobs=4), n_jobs=4)\n",
    "model1.fit(X_train, y_train)"
   ]
  },
  {
   "cell_type": "code",
   "execution_count": 19,
   "metadata": {
    "collapsed": true
   },
   "outputs": [],
   "source": [
    "#model2 = OneVsRestClassifier(GaussianNB(), n_jobs=4)\n",
    "#model2.fit(X_train, y_train)"
   ]
  },
  {
   "cell_type": "code",
   "execution_count": 20,
   "metadata": {
    "collapsed": false
   },
   "outputs": [
    {
     "data": {
      "text/plain": [
       "OneVsRestClassifier(estimator=LogisticRegression(C=1.0, class_weight=None, dual=False, fit_intercept=True,\n",
       "          intercept_scaling=1, max_iter=100, multi_class='ovr', n_jobs=1,\n",
       "          penalty='l2', random_state=None, solver='liblinear', tol=0.0001,\n",
       "          verbose=0, warm_start=False),\n",
       "          n_jobs=4)"
      ]
     },
     "execution_count": 20,
     "metadata": {},
     "output_type": "execute_result"
    }
   ],
   "source": [
    "model3 = OneVsRestClassifier(LogisticRegression(), n_jobs=4)\n",
    "model3.fit(X_train, y_train)"
   ]
  },
  {
   "cell_type": "code",
   "execution_count": null,
   "metadata": {
    "collapsed": false
   },
   "outputs": [
    {
     "data": {
      "text/plain": [
       "OneVsRestClassifier(estimator=AdaBoostClassifier(algorithm='SAMME.R', base_estimator=None,\n",
       "          learning_rate=1.0, n_estimators=100, random_state=None),\n",
       "          n_jobs=4)"
      ]
     },
     "execution_count": 21,
     "metadata": {},
     "output_type": "execute_result"
    }
   ],
   "source": [
    "model4 = OneVsRestClassifier(AdaBoostClassifier(n_estimators=100), n_jobs=4)\n",
    "model4.fit(X_train, y_train)"
   ]
  },
  {
   "cell_type": "code",
   "execution_count": null,
   "metadata": {
    "collapsed": false
   },
   "outputs": [],
   "source": [
    "eclf = OneVsRestClassifier(\n",
    "    VotingClassifier(estimators=[('raf', model1)\n",
    "                                 #,('nab', model2)\n",
    "                                 ,('lor', model3)\n",
    "                                 ,('ada', model4)\n",
    "                                ], voting='soft', weights=[3,1,2]), n_jobs=3)\n",
    "\n",
    "# Trainieren des VotingClassifiers\n",
    "eclf = eclf.fit(X_train, y_train)"
   ]
  },
  {
   "cell_type": "code",
   "execution_count": null,
   "metadata": {
    "collapsed": false
   },
   "outputs": [],
   "source": [
    "y_score = eclf.predict(X_test)\n",
    "y_true = y_test"
   ]
  },
  {
   "cell_type": "code",
   "execution_count": null,
   "metadata": {
    "collapsed": false
   },
   "outputs": [],
   "source": [
    "roc_auc_score(y_true, y_score, average='macro', sample_weight=None)"
   ]
  },
  {
   "cell_type": "code",
   "execution_count": null,
   "metadata": {
    "collapsed": false
   },
   "outputs": [],
   "source": [
    "accuracy_score(y_true, y_score, normalize=True, sample_weight=None)"
   ]
  },
  {
   "cell_type": "code",
   "execution_count": null,
   "metadata": {
    "collapsed": false
   },
   "outputs": [],
   "source": [
    "# test with unseen data\n",
    "final = final.join(final.groupby('label')[['x', 'y','z']].mean(), on='label', rsuffix='.mean')"
   ]
  },
  {
   "cell_type": "code",
   "execution_count": null,
   "metadata": {
    "collapsed": false
   },
   "outputs": [],
   "source": [
    "#seperat calculate mean and stats\n",
    "final['diff.x'] = abs(final['x'] - final['x.mean'])\n",
    "final['diff.y'] = abs(final['y'] - final['y.mean'])\n",
    "final['diff.z'] = abs(final['z'] - final['z.mean'])\n",
    "final['max.y'] = max(final['y'])\n",
    "\n",
    "mlb = MultiLabelBinarizer()\n",
    "y_final = mlb.fit_transform(final['label'])\n",
    "X_final = final.iloc[:, np.delete(np.arange(10),3)]\n",
    "normalizer = Normalizer().fit(X_final)\n",
    "X_final = normalizer.transform(X_final)\n",
    "scaler = StandardScaler().fit(X_final)\n",
    "X_final = scaler.transform(X_final)"
   ]
  },
  {
   "cell_type": "code",
   "execution_count": null,
   "metadata": {
    "collapsed": false
   },
   "outputs": [],
   "source": [
    "y_final_predict = eclf.predict(X_final)\n",
    "y_final_true = y_final\n",
    "\n",
    "print(roc_auc_score(y_final_true, y_final_predict, average='macro',sample_weight=None))\n",
    "print(accuracy_score(y_final_true, y_final_predict, normalize=True, sample_weight=None))\n",
    "#not bad"
   ]
  },
  {
   "cell_type": "code",
   "execution_count": null,
   "metadata": {
    "collapsed": false
   },
   "outputs": [],
   "source": [
    "joblib.dump(eclf, 'HMP-model.pkl')"
   ]
  },
  {
   "cell_type": "code",
   "execution_count": null,
   "metadata": {
    "collapsed": true
   },
   "outputs": [],
   "source": [
    "# test loading\n",
    "eclf = joblib.load('HMP-model.pkl') "
   ]
  },
  {
   "cell_type": "code",
   "execution_count": null,
   "metadata": {
    "collapsed": false
   },
   "outputs": [],
   "source": [
    "y_final_predict = eclf.predict(X_final)\n",
    "y_final_true = y_final\n",
    "\n",
    "print(roc_auc_score(y_final_true, y_final_predict, average='macro',sample_weight=None))\n",
    "#not bad\n",
    "print(classification_report(y_final_predict, y_final_true))"
   ]
  }
 ],
 "metadata": {
  "kernelspec": {
   "display_name": "Python 3",
   "language": "python",
   "name": "python3"
  },
  "language_info": {
   "codemirror_mode": {
    "name": "ipython",
    "version": 3
   },
   "file_extension": ".py",
   "mimetype": "text/x-python",
   "name": "python",
   "nbconvert_exporter": "python",
   "pygments_lexer": "ipython3",
   "version": "3.6.0"
  }
 },
 "nbformat": 4,
 "nbformat_minor": 2
}
